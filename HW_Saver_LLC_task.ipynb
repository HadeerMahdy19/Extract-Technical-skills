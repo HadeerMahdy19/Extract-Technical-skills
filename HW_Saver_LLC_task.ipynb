{
  "nbformat": 4,
  "nbformat_minor": 0,
  "metadata": {
    "colab": {
      "name": "HW Saver LLC task.ipynb",
      "provenance": [],
      "authorship_tag": "ABX9TyNjciexPJ4Nf6cni2luw+Ki",
      "include_colab_link": true
    },
    "kernelspec": {
      "name": "python3",
      "display_name": "Python 3"
    },
    "language_info": {
      "name": "python"
    }
  },
  "cells": [
    {
      "cell_type": "markdown",
      "metadata": {
        "id": "view-in-github",
        "colab_type": "text"
      },
      "source": [
        "<a href=\"https://colab.research.google.com/github/HadeerMahdy19/task1/blob/main/HW_Saver_LLC_task.ipynb\" target=\"_parent\"><img src=\"https://colab.research.google.com/assets/colab-badge.svg\" alt=\"Open In Colab\"/></a>"
      ]
    },
    {
      "cell_type": "code",
      "execution_count": 2,
      "metadata": {
        "id": "CjLQU5c6ZT6M"
      },
      "outputs": [],
      "source": [
        "import requests\n",
        "import nltk\n",
        "from google.colab import drive"
      ]
    },
    {
      "cell_type": "code",
      "source": [
        "drive.mount('/content/drive')"
      ],
      "metadata": {
        "colab": {
          "base_uri": "https://localhost:8080/"
        },
        "id": "DAZWD2IrbR-5",
        "outputId": "33fe75b5-7665-4635-c946-8457f78206dd"
      },
      "execution_count": 3,
      "outputs": [
        {
          "output_type": "stream",
          "name": "stdout",
          "text": [
            "Mounted at /content/drive\n"
          ]
        }
      ]
    },
    {
      "cell_type": "code",
      "source": [
        ""
      ],
      "metadata": {
        "id": "SKIBu6xdbmo9"
      },
      "execution_count": null,
      "outputs": []
    }
  ]
}